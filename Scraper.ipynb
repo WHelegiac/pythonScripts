{
 "cells": [
  {
   "cell_type": "code",
   "execution_count": null,
   "metadata": {},
   "outputs": [],
   "source": [
    "from bs4 import BeautifulSoup\n",
    "import requests\n",
    "import sys\n",
    "from fake_useragent import UserAgent\n",
    "#导入相关库\n",
    "\n",
    "#虚拟header\n",
    "ua = UserAgent()\n",
    "header = {\"User-Agent\" : ua.firefox}\n",
    "\n",
    "#需要自己 DIY的\n",
    "url = \"\"\n",
    "saved_filename = \"\"\n",
    "\n",
    "req = requests.get(url=url,headers=header)\n",
    "\n",
    "if req.status_code == 200:\n",
    "    with open(\"./Data/HTML/\" + saved_filename,'a') as file:\n",
    "        file.write(req.text)\n",
    "else:\n",
    "    print(\"被反爬了!\")\n",
    "    sys.exit()\n",
    "    \n",
    "with open(\"./Data/HTML/\" + saved_filename) as f:\n",
    "    html = f.read()\n",
    "    \n",
    "bs = BeautifulSoup(html)\n",
    "\n",
    "\n",
    "#此处自己通过网页源代码定义\n",
    "elements = bs.find_all('',{\n",
    "    \n",
    "})\n",
    "\n",
    "\n",
    "print()\n"
   ]
  }
 ],
 "metadata": {
  "language_info": {
   "name": "python"
  },
  "orig_nbformat": 4
 },
 "nbformat": 4,
 "nbformat_minor": 2
}
